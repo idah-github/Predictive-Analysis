{
 "cells": [
  {
   "cell_type": "code",
   "execution_count": 1,
   "id": "1adc6741",
   "metadata": {},
   "outputs": [],
   "source": [
    "import pandas as pd\n",
    "import numpy as np\n",
    "import matplotlib.pyplot as plt\n",
    "from sklearn.linear_model import LinearRegression, Ridge\n",
    "from sklearn.impute import SimpleImputer\n",
    "from sklearn.metrics import mean_absolute_error\n",
    "from sklearn.pipeline import make_pipeline\n",
    "import seaborn as sns\n",
    "from category_encoders import OneHotEncoder\n",
    "from glob import glob\n",
    "import plotly.express as px\n",
    "from sklearn.utils.validation import check_is_fitted\n",
    "from ipywidgets import interact, Dropdown, IntSlider, FloatSlider\n",
    "from IPython.display import display\n",
    "import ipywidgets as widgets\n",
    "import pickle\n"
   ]
  },
  {
   "cell_type": "markdown",
   "id": "febd55bf",
   "metadata": {},
   "source": [
    "Wrangle function for the data preparation:\n",
    "Subset data to have apartments in (\"Distrito Federal\") costing less that $100000\n",
    "Rm outliers- trim area by bottom and top 10% quantiles\n",
    "Split the lat-lon column and placewithparentnames to have the neighborhood\n",
    "Drop columns with > 50% null values\n",
    "Drop low and high cardinality columns\n",
    "Drop Columns that would cause target leakage\n",
    "Drop Columns that would create multicollunearity issues"
   ]
  },
  {
   "cell_type": "code",
   "execution_count": 2,
   "id": "e785f5f7",
   "metadata": {},
   "outputs": [],
   "source": [
    "def wrangle(path):\n",
    "    df = pd.read_csv(path)\n",
    "    \n",
    "    city = df['place_with_parent_names'].str.contains(\"Distrito Federal\")\n",
    "    property= df[\"property_type\"].str.contains(\"apartment\")\n",
    "    price = df[\"price_aprox_usd\"] < 100000\n",
    "    df = df[city  & property & price]\n",
    "    \n",
    "    #trim area by top and bottom 10% quantile low=48, high =91\n",
    "    low,high = df[\"surface_covered_in_m2\"].quantile([0.1,0.9])\n",
    "    area = df[\"surface_covered_in_m2\"].between(low,high)\n",
    "    df = df[area]\n",
    "    \n",
    "    df[[\"lat\",\"lon\"]] = df[\"lat-lon\"].str.split(',', expand = True).astype(float)\n",
    "    df.drop(columns = \"lat-lon\", inplace = True)\n",
    "    df[\"neighbourhood\"] = df[\"place_with_parent_names\"].str.split('|', expand = True)[1]\n",
    "    df.drop(columns = \"place_with_parent_names\", inplace = True)\n",
    "    \n",
    "    nulls = df.isnull().sum()\n",
    "    clmns = nulls[nulls>555].keys() # ['surface_total_in_m2', 'price_usd_per_m2', 'floor', 'rooms', 'expenses']\n",
    "    df.drop(clmns, axis = \"columns\", inplace = True)\n",
    "    #high cardinality: several number of unique value > half properati_url\n",
    "    df.drop(columns =\"properati_url\", inplace = True)\n",
    "    #low cardinality columns\n",
    "    df.drop(columns = [\"operation\",\"property_type\",\"currency\"], inplace = True)\n",
    "    \n",
    "    #Leaky features price price_aprox_local_currency price_per_m2\n",
    "    df.drop(columns = [\"price_aprox_local_currency\",\"price_per_m2\",\"price\"], inplace = True)  \n",
    "      \n",
    "    return df"
   ]
  },
  {
   "cell_type": "code",
   "execution_count": 3,
   "id": "b4b51b97",
   "metadata": {},
   "outputs": [
    {
     "name": "stdout",
     "output_type": "stream",
     "text": [
      "(1101, 5)\n"
     ]
    },
    {
     "data": {
      "text/html": [
       "<div>\n",
       "<style scoped>\n",
       "    .dataframe tbody tr th:only-of-type {\n",
       "        vertical-align: middle;\n",
       "    }\n",
       "\n",
       "    .dataframe tbody tr th {\n",
       "        vertical-align: top;\n",
       "    }\n",
       "\n",
       "    .dataframe thead th {\n",
       "        text-align: right;\n",
       "    }\n",
       "</style>\n",
       "<table border=\"1\" class=\"dataframe\">\n",
       "  <thead>\n",
       "    <tr style=\"text-align: right;\">\n",
       "      <th></th>\n",
       "      <th>price_aprox_usd</th>\n",
       "      <th>surface_covered_in_m2</th>\n",
       "      <th>lat</th>\n",
       "      <th>lon</th>\n",
       "      <th>neighbourhood</th>\n",
       "    </tr>\n",
       "  </thead>\n",
       "  <tbody>\n",
       "    <tr>\n",
       "      <th>11</th>\n",
       "      <td>94022.66</td>\n",
       "      <td>57.0</td>\n",
       "      <td>23.634501</td>\n",
       "      <td>-102.552788</td>\n",
       "      <td>Benito Juárez</td>\n",
       "    </tr>\n",
       "    <tr>\n",
       "      <th>20</th>\n",
       "      <td>70880.12</td>\n",
       "      <td>56.0</td>\n",
       "      <td>19.402413</td>\n",
       "      <td>-99.095391</td>\n",
       "      <td>Iztacalco</td>\n",
       "    </tr>\n",
       "    <tr>\n",
       "      <th>21</th>\n",
       "      <td>68228.99</td>\n",
       "      <td>80.0</td>\n",
       "      <td>19.357820</td>\n",
       "      <td>-99.149406</td>\n",
       "      <td>Benito Juárez</td>\n",
       "    </tr>\n",
       "    <tr>\n",
       "      <th>22</th>\n",
       "      <td>24235.78</td>\n",
       "      <td>60.0</td>\n",
       "      <td>19.504985</td>\n",
       "      <td>-99.208557</td>\n",
       "      <td>Azcapotzalco</td>\n",
       "    </tr>\n",
       "    <tr>\n",
       "      <th>26</th>\n",
       "      <td>94140.20</td>\n",
       "      <td>50.0</td>\n",
       "      <td>19.354219</td>\n",
       "      <td>-99.126244</td>\n",
       "      <td>Coyoacán</td>\n",
       "    </tr>\n",
       "    <tr>\n",
       "      <th>32</th>\n",
       "      <td>76395.40</td>\n",
       "      <td>90.0</td>\n",
       "      <td>19.400785</td>\n",
       "      <td>-99.147419</td>\n",
       "      <td>Benito Juárez</td>\n",
       "    </tr>\n",
       "    <tr>\n",
       "      <th>43</th>\n",
       "      <td>40103.52</td>\n",
       "      <td>65.0</td>\n",
       "      <td>19.366632</td>\n",
       "      <td>-99.197900</td>\n",
       "      <td>Álvaro Obregón</td>\n",
       "    </tr>\n",
       "  </tbody>\n",
       "</table>\n",
       "</div>"
      ],
      "text/plain": [
       "    price_aprox_usd  surface_covered_in_m2        lat         lon  \\\n",
       "11         94022.66                   57.0  23.634501 -102.552788   \n",
       "20         70880.12                   56.0  19.402413  -99.095391   \n",
       "21         68228.99                   80.0  19.357820  -99.149406   \n",
       "22         24235.78                   60.0  19.504985  -99.208557   \n",
       "26         94140.20                   50.0  19.354219  -99.126244   \n",
       "32         76395.40                   90.0  19.400785  -99.147419   \n",
       "43         40103.52                   65.0  19.366632  -99.197900   \n",
       "\n",
       "     neighbourhood  \n",
       "11   Benito Juárez  \n",
       "20       Iztacalco  \n",
       "21   Benito Juárez  \n",
       "22    Azcapotzalco  \n",
       "26        Coyoacán  \n",
       "32   Benito Juárez  \n",
       "43  Álvaro Obregón  "
      ]
     },
     "execution_count": 3,
     "metadata": {},
     "output_type": "execute_result"
    }
   ],
   "source": [
    "df1 = wrangle(r\"C:\\Users\\Administrator\\Desktop\\Data Expert\\Data Analytics\\Projects\\World Quant\\Housing in Buenos Aires\\data\\mexico-city-real-estate-1.csv\")\n",
    "print(df1.shape)\n",
    "df1.head(7)"
   ]
  },
  {
   "cell_type": "code",
   "execution_count": 22,
   "id": "18996138",
   "metadata": {},
   "outputs": [
    {
     "data": {
      "text/plain": [
       "Index(['surface_total_in_m2', 'price_usd_per_m2', 'floor', 'rooms',\n",
       "       'expenses'],\n",
       "      dtype='object')"
      ]
     },
     "execution_count": 22,
     "metadata": {},
     "output_type": "execute_result"
    }
   ],
   "source": [
    "#check for columns with >50% null\n",
    "null = df1.isnull().sum()\n",
    "clmns = null[null>550].keys() # ['surface_total_in_m2', 'price_usd_per_m2', 'floor', 'rooms', 'expenses']\n",
    "# nulls =null*100/len(df1)\n",
    "# clmns = nulls[nulls>50].keys()\n",
    "clmns\n"
   ]
  },
  {
   "cell_type": "code",
   "execution_count": 29,
   "id": "eb50746f",
   "metadata": {},
   "outputs": [
    {
     "data": {
      "text/plain": [
       "price_aprox_usd             0\n",
       "surface_total_in_m2      1000\n",
       "surface_covered_in_m2       0\n",
       "price_usd_per_m2         1031\n",
       "floor                    1101\n",
       "rooms                    1095\n",
       "expenses                 1101\n",
       "lat                        60\n",
       "lon                        60\n",
       "neighbourhood               0\n",
       "dtype: int64"
      ]
     },
     "execution_count": 29,
     "metadata": {},
     "output_type": "execute_result"
    }
   ],
   "source": [
    "df1.isnull().sum()"
   ]
  },
  {
   "cell_type": "markdown",
   "id": "631b0286",
   "metadata": {},
   "source": [
    "Cardinality: number / frequency of unque values in a column\n",
    "High cardinality: several number of unique value > half properati_url \n",
    "low cardinality :low records of unique values <10 operation property_type currency"
   ]
  },
  {
   "cell_type": "code",
   "execution_count": null,
   "id": "9b9d20df",
   "metadata": {},
   "outputs": [
    {
     "data": {
      "text/plain": [
       "operation           1\n",
       "property_type       1\n",
       "currency            1\n",
       "properati_url    1101\n",
       "neighbourhood      14\n",
       "dtype: int64"
      ]
     },
     "execution_count": 71,
     "metadata": {},
     "output_type": "execute_result"
    }
   ],
   "source": [
    "#check cardinality for cartegorical columns #eclude number\n",
    "categorical = df1.select_dtypes(include = \"object\")\n",
    "categorical.nunique()\n",
    "#df1.nunique()"
   ]
  },
  {
   "cell_type": "markdown",
   "id": "1ffbfcf1",
   "metadata": {},
   "source": [
    "Leakage training data has infor about the target that will not be available when the model is used for prediction. Perfomance is high and looks accurate on training set but poor and inaccurate in production\n",
    "Target Leakage: features include data that will not be available during prediction\n",
    "Train-test Contamination: occurs when validation data is included in the model prediction. Frequently occure when data split is not done before feature engineering / preprocessing"
   ]
  },
  {
   "cell_type": "code",
   "execution_count": 6,
   "id": "939788ca",
   "metadata": {},
   "outputs": [
    {
     "data": {
      "text/plain": [
       "Index(['price', 'price_aprox_local_currency', 'price_aprox_usd',\n",
       "       'surface_covered_in_m2', 'price_per_m2', 'neighbourhood'],\n",
       "      dtype='object')"
      ]
     },
     "execution_count": 6,
     "metadata": {},
     "output_type": "execute_result"
    }
   ],
   "source": [
    "#Leaky features price price_aprox_local_currency price_per_m2\n",
    "df1.columns"
   ]
  },
  {
   "cell_type": "code",
   "execution_count": 4,
   "id": "ff8bf059",
   "metadata": {},
   "outputs": [
    {
     "data": {
      "text/plain": [
       "['C:\\\\Users\\\\Administrator\\\\Desktop\\\\Data Expert\\\\Data Analytics\\\\Projects\\\\World Quant\\\\Housing in Buenos Aires\\\\data\\\\mexico-city-real-estate-1.csv',\n",
       " 'C:\\\\Users\\\\Administrator\\\\Desktop\\\\Data Expert\\\\Data Analytics\\\\Projects\\\\World Quant\\\\Housing in Buenos Aires\\\\data\\\\mexico-city-real-estate-2.csv',\n",
       " 'C:\\\\Users\\\\Administrator\\\\Desktop\\\\Data Expert\\\\Data Analytics\\\\Projects\\\\World Quant\\\\Housing in Buenos Aires\\\\data\\\\mexico-city-real-estate-3.csv',\n",
       " 'C:\\\\Users\\\\Administrator\\\\Desktop\\\\Data Expert\\\\Data Analytics\\\\Projects\\\\World Quant\\\\Housing in Buenos Aires\\\\data\\\\mexico-city-real-estate-4.csv',\n",
       " 'C:\\\\Users\\\\Administrator\\\\Desktop\\\\Data Expert\\\\Data Analytics\\\\Projects\\\\World Quant\\\\Housing in Buenos Aires\\\\data\\\\mexico-city-real-estate-5.csv']"
      ]
     },
     "execution_count": 4,
     "metadata": {},
     "output_type": "execute_result"
    }
   ],
   "source": [
    "#Pattern match files using glob\n",
    "files = glob(r\"C:\\Users\\Administrator\\Desktop\\Data Expert\\Data Analytics\\Projects\\World Quant\\Housing in Buenos Aires\\data\\mexico-city-real-estate*\")\n",
    "files"
   ]
  },
  {
   "cell_type": "code",
   "execution_count": 7,
   "id": "20ff1aff",
   "metadata": {},
   "outputs": [
    {
     "name": "stdout",
     "output_type": "stream",
     "text": [
      "(5473, 5)\n"
     ]
    },
    {
     "data": {
      "text/html": [
       "<div>\n",
       "<style scoped>\n",
       "    .dataframe tbody tr th:only-of-type {\n",
       "        vertical-align: middle;\n",
       "    }\n",
       "\n",
       "    .dataframe tbody tr th {\n",
       "        vertical-align: top;\n",
       "    }\n",
       "\n",
       "    .dataframe thead th {\n",
       "        text-align: right;\n",
       "    }\n",
       "</style>\n",
       "<table border=\"1\" class=\"dataframe\">\n",
       "  <thead>\n",
       "    <tr style=\"text-align: right;\">\n",
       "      <th></th>\n",
       "      <th>price_aprox_usd</th>\n",
       "      <th>surface_covered_in_m2</th>\n",
       "      <th>lat</th>\n",
       "      <th>lon</th>\n",
       "      <th>neighbourhood</th>\n",
       "    </tr>\n",
       "  </thead>\n",
       "  <tbody>\n",
       "    <tr>\n",
       "      <th>11</th>\n",
       "      <td>94022.66</td>\n",
       "      <td>57.0</td>\n",
       "      <td>23.634501</td>\n",
       "      <td>-102.552788</td>\n",
       "      <td>Benito Juárez</td>\n",
       "    </tr>\n",
       "    <tr>\n",
       "      <th>20</th>\n",
       "      <td>70880.12</td>\n",
       "      <td>56.0</td>\n",
       "      <td>19.402413</td>\n",
       "      <td>-99.095391</td>\n",
       "      <td>Iztacalco</td>\n",
       "    </tr>\n",
       "    <tr>\n",
       "      <th>21</th>\n",
       "      <td>68228.99</td>\n",
       "      <td>80.0</td>\n",
       "      <td>19.357820</td>\n",
       "      <td>-99.149406</td>\n",
       "      <td>Benito Juárez</td>\n",
       "    </tr>\n",
       "    <tr>\n",
       "      <th>22</th>\n",
       "      <td>24235.78</td>\n",
       "      <td>60.0</td>\n",
       "      <td>19.504985</td>\n",
       "      <td>-99.208557</td>\n",
       "      <td>Azcapotzalco</td>\n",
       "    </tr>\n",
       "    <tr>\n",
       "      <th>26</th>\n",
       "      <td>94140.20</td>\n",
       "      <td>50.0</td>\n",
       "      <td>19.354219</td>\n",
       "      <td>-99.126244</td>\n",
       "      <td>Coyoacán</td>\n",
       "    </tr>\n",
       "  </tbody>\n",
       "</table>\n",
       "</div>"
      ],
      "text/plain": [
       "    price_aprox_usd  surface_covered_in_m2        lat         lon  \\\n",
       "11         94022.66                   57.0  23.634501 -102.552788   \n",
       "20         70880.12                   56.0  19.402413  -99.095391   \n",
       "21         68228.99                   80.0  19.357820  -99.149406   \n",
       "22         24235.78                   60.0  19.504985  -99.208557   \n",
       "26         94140.20                   50.0  19.354219  -99.126244   \n",
       "\n",
       "    neighbourhood  \n",
       "11  Benito Juárez  \n",
       "20      Iztacalco  \n",
       "21  Benito Juárez  \n",
       "22   Azcapotzalco  \n",
       "26       Coyoacán  "
      ]
     },
     "execution_count": 7,
     "metadata": {},
     "output_type": "execute_result"
    }
   ],
   "source": [
    "# for file in files:\n",
    "#     [wrangle(file)]\n",
    "# len(files)\n",
    "# files[0]\n",
    "#List Comprehension to wrangle all files\n",
    "datafiles = [wrangle(file) for file in files]\n",
    "len(datafiles)\n",
    "datafiles[1].shape\n",
    "#concat all dataframes\n",
    "df = pd.concat(datafiles)\n",
    "print(df.shape)\n",
    "df.head(5)\n"
   ]
  },
  {
   "cell_type": "code",
   "execution_count": 5,
   "id": "1afaa310",
   "metadata": {},
   "outputs": [
    {
     "name": "stdout",
     "output_type": "stream",
     "text": [
      "(5473, 5)\n"
     ]
    },
    {
     "data": {
      "text/html": [
       "<div>\n",
       "<style scoped>\n",
       "    .dataframe tbody tr th:only-of-type {\n",
       "        vertical-align: middle;\n",
       "    }\n",
       "\n",
       "    .dataframe tbody tr th {\n",
       "        vertical-align: top;\n",
       "    }\n",
       "\n",
       "    .dataframe thead th {\n",
       "        text-align: right;\n",
       "    }\n",
       "</style>\n",
       "<table border=\"1\" class=\"dataframe\">\n",
       "  <thead>\n",
       "    <tr style=\"text-align: right;\">\n",
       "      <th></th>\n",
       "      <th>price_aprox_usd</th>\n",
       "      <th>surface_covered_in_m2</th>\n",
       "      <th>lat</th>\n",
       "      <th>lon</th>\n",
       "      <th>neighbourhood</th>\n",
       "    </tr>\n",
       "  </thead>\n",
       "  <tbody>\n",
       "    <tr>\n",
       "      <th>11</th>\n",
       "      <td>94022.66</td>\n",
       "      <td>57.0</td>\n",
       "      <td>23.634501</td>\n",
       "      <td>-102.552788</td>\n",
       "      <td>Benito Juárez</td>\n",
       "    </tr>\n",
       "    <tr>\n",
       "      <th>20</th>\n",
       "      <td>70880.12</td>\n",
       "      <td>56.0</td>\n",
       "      <td>19.402413</td>\n",
       "      <td>-99.095391</td>\n",
       "      <td>Iztacalco</td>\n",
       "    </tr>\n",
       "    <tr>\n",
       "      <th>21</th>\n",
       "      <td>68228.99</td>\n",
       "      <td>80.0</td>\n",
       "      <td>19.357820</td>\n",
       "      <td>-99.149406</td>\n",
       "      <td>Benito Juárez</td>\n",
       "    </tr>\n",
       "  </tbody>\n",
       "</table>\n",
       "</div>"
      ],
      "text/plain": [
       "    price_aprox_usd  surface_covered_in_m2        lat         lon  \\\n",
       "11         94022.66                   57.0  23.634501 -102.552788   \n",
       "20         70880.12                   56.0  19.402413  -99.095391   \n",
       "21         68228.99                   80.0  19.357820  -99.149406   \n",
       "\n",
       "    neighbourhood  \n",
       "11  Benito Juárez  \n",
       "20      Iztacalco  \n",
       "21  Benito Juárez  "
      ]
     },
     "execution_count": 5,
     "metadata": {},
     "output_type": "execute_result"
    }
   ],
   "source": [
    "#combine the list comprehension and concat\n",
    "df = pd.concat([wrangle(file) for file in files])\n",
    "print(df.shape)\n",
    "df.head(3)"
   ]
  },
  {
   "cell_type": "code",
   "execution_count": null,
   "id": "791f2b1a",
   "metadata": {},
   "outputs": [
    {
     "name": "stdout",
     "output_type": "stream",
     "text": [
      "(5473, 5)\n"
     ]
    }
   ],
   "source": [
    "def clean_data(df):\n",
    "    #combine the above steps into a function\n",
    "    files = glob(r\"C:\\Users\\Administrator\\Desktop\\Data Expert\\Data Analytics\\Projects\\World Quant\\Housing in Buenos Aires\\data\\mexico-city-real-estate*\")\n",
    "    df = pd.concat([wrangle(file) for file in files])\n",
    "    return df\n",
    "print(df.shape)\n",
    "df.head\n"
   ]
  },
  {
   "cell_type": "code",
   "execution_count": 9,
   "id": "e793ab50",
   "metadata": {},
   "outputs": [
    {
     "data": {
      "text/html": [
       "<div>\n",
       "<style scoped>\n",
       "    .dataframe tbody tr th:only-of-type {\n",
       "        vertical-align: middle;\n",
       "    }\n",
       "\n",
       "    .dataframe tbody tr th {\n",
       "        vertical-align: top;\n",
       "    }\n",
       "\n",
       "    .dataframe thead th {\n",
       "        text-align: right;\n",
       "    }\n",
       "</style>\n",
       "<table border=\"1\" class=\"dataframe\">\n",
       "  <thead>\n",
       "    <tr style=\"text-align: right;\">\n",
       "      <th></th>\n",
       "      <th>price_aprox_usd</th>\n",
       "      <th>surface_covered_in_m2</th>\n",
       "      <th>lat</th>\n",
       "      <th>lon</th>\n",
       "      <th>neighbourhood</th>\n",
       "    </tr>\n",
       "  </thead>\n",
       "  <tbody>\n",
       "    <tr>\n",
       "      <th>0</th>\n",
       "      <td>94022.66</td>\n",
       "      <td>57.0</td>\n",
       "      <td>23.634501</td>\n",
       "      <td>-102.552788</td>\n",
       "      <td>Benito Juárez</td>\n",
       "    </tr>\n",
       "    <tr>\n",
       "      <th>1</th>\n",
       "      <td>70880.12</td>\n",
       "      <td>56.0</td>\n",
       "      <td>19.402413</td>\n",
       "      <td>-99.095391</td>\n",
       "      <td>Iztacalco</td>\n",
       "    </tr>\n",
       "    <tr>\n",
       "      <th>2</th>\n",
       "      <td>68228.99</td>\n",
       "      <td>80.0</td>\n",
       "      <td>19.357820</td>\n",
       "      <td>-99.149406</td>\n",
       "      <td>Benito Juárez</td>\n",
       "    </tr>\n",
       "    <tr>\n",
       "      <th>3</th>\n",
       "      <td>24235.78</td>\n",
       "      <td>60.0</td>\n",
       "      <td>19.504985</td>\n",
       "      <td>-99.208557</td>\n",
       "      <td>Azcapotzalco</td>\n",
       "    </tr>\n",
       "    <tr>\n",
       "      <th>4</th>\n",
       "      <td>94140.20</td>\n",
       "      <td>50.0</td>\n",
       "      <td>19.354219</td>\n",
       "      <td>-99.126244</td>\n",
       "      <td>Coyoacán</td>\n",
       "    </tr>\n",
       "    <tr>\n",
       "      <th>5</th>\n",
       "      <td>76395.40</td>\n",
       "      <td>90.0</td>\n",
       "      <td>19.400785</td>\n",
       "      <td>-99.147419</td>\n",
       "      <td>Benito Juárez</td>\n",
       "    </tr>\n",
       "    <tr>\n",
       "      <th>6</th>\n",
       "      <td>40103.52</td>\n",
       "      <td>65.0</td>\n",
       "      <td>19.366632</td>\n",
       "      <td>-99.197900</td>\n",
       "      <td>Álvaro Obregón</td>\n",
       "    </tr>\n",
       "    <tr>\n",
       "      <th>7</th>\n",
       "      <td>68070.93</td>\n",
       "      <td>80.0</td>\n",
       "      <td>19.400731</td>\n",
       "      <td>-99.125466</td>\n",
       "      <td>Iztacalco</td>\n",
       "    </tr>\n",
       "    <tr>\n",
       "      <th>8</th>\n",
       "      <td>39409.48</td>\n",
       "      <td>61.0</td>\n",
       "      <td>19.337163</td>\n",
       "      <td>-99.080899</td>\n",
       "      <td>Iztapalapa</td>\n",
       "    </tr>\n",
       "    <tr>\n",
       "      <th>9</th>\n",
       "      <td>44794.13</td>\n",
       "      <td>55.0</td>\n",
       "      <td>19.435666</td>\n",
       "      <td>-99.149730</td>\n",
       "      <td>Cuauhtémoc</td>\n",
       "    </tr>\n",
       "    <tr>\n",
       "      <th>10</th>\n",
       "      <td>53399.87</td>\n",
       "      <td>60.0</td>\n",
       "      <td>19.299023</td>\n",
       "      <td>-99.043647</td>\n",
       "      <td>Tláhuac</td>\n",
       "    </tr>\n",
       "    <tr>\n",
       "      <th>11</th>\n",
       "      <td>35847.88</td>\n",
       "      <td>65.0</td>\n",
       "      <td>19.453854</td>\n",
       "      <td>-99.193979</td>\n",
       "      <td>Miguel Hidalgo</td>\n",
       "    </tr>\n",
       "    <tr>\n",
       "      <th>12</th>\n",
       "      <td>29962.59</td>\n",
       "      <td>60.0</td>\n",
       "      <td>19.458968</td>\n",
       "      <td>-99.152898</td>\n",
       "      <td>Azcapotzalco</td>\n",
       "    </tr>\n",
       "  </tbody>\n",
       "</table>\n",
       "</div>"
      ],
      "text/plain": [
       "    price_aprox_usd  surface_covered_in_m2        lat         lon  \\\n",
       "0          94022.66                   57.0  23.634501 -102.552788   \n",
       "1          70880.12                   56.0  19.402413  -99.095391   \n",
       "2          68228.99                   80.0  19.357820  -99.149406   \n",
       "3          24235.78                   60.0  19.504985  -99.208557   \n",
       "4          94140.20                   50.0  19.354219  -99.126244   \n",
       "5          76395.40                   90.0  19.400785  -99.147419   \n",
       "6          40103.52                   65.0  19.366632  -99.197900   \n",
       "7          68070.93                   80.0  19.400731  -99.125466   \n",
       "8          39409.48                   61.0  19.337163  -99.080899   \n",
       "9          44794.13                   55.0  19.435666  -99.149730   \n",
       "10         53399.87                   60.0  19.299023  -99.043647   \n",
       "11         35847.88                   65.0  19.453854  -99.193979   \n",
       "12         29962.59                   60.0  19.458968  -99.152898   \n",
       "\n",
       "     neighbourhood  \n",
       "0    Benito Juárez  \n",
       "1        Iztacalco  \n",
       "2    Benito Juárez  \n",
       "3     Azcapotzalco  \n",
       "4         Coyoacán  \n",
       "5    Benito Juárez  \n",
       "6   Álvaro Obregón  \n",
       "7        Iztacalco  \n",
       "8       Iztapalapa  \n",
       "9       Cuauhtémoc  \n",
       "10         Tláhuac  \n",
       "11  Miguel Hidalgo  \n",
       "12    Azcapotzalco  "
      ]
     },
     "execution_count": 9,
     "metadata": {},
     "output_type": "execute_result"
    }
   ],
   "source": [
    "#save cleaned data to csv\n",
    "df.to_csv(r\"C:\\Users\\Administrator\\Desktop\\Data Expert\\Data Analytics\\Projects\\World Quant\\Housing in Buenos Aires\\data\\mexico-cleaned-data.csv\", index = False)\n",
    "clean_data = pd.read_csv(r\"C:\\Users\\Administrator\\Desktop\\Data Expert\\Data Analytics\\Projects\\World Quant\\Housing in Buenos Aires\\data\\mexico-cleaned-data.csv\")\n",
    "clean_data.shape\n",
    "clean_data.head(13)"
   ]
  },
  {
   "cell_type": "code",
   "execution_count": 55,
   "id": "6064caff",
   "metadata": {},
   "outputs": [
    {
     "data": {
      "text/plain": [
       "Text(0.5, 1.0, 'Distribution of Apartment Prices in Mexico City')"
      ]
     },
     "execution_count": 55,
     "metadata": {},
     "output_type": "execute_result"
    },
    {
     "data": {
      "image/png": "[encoded data removed]",
      "text/plain": [
       "<Figure size 640x480 with 1 Axes>"
      ]
     },
     "metadata": {},
     "output_type": "display_data"
    }
   ],
   "source": [
    "#show distribution of apartment prices\n",
    "plt.hist(df[\"price_aprox_usd\"], bins = 10)\n",
    "plt.xlabel(\"Price in USD\")\n",
    "plt.ylabel(\"Count\")\n",
    "plt.title(\"Distribution of Apartment Prices in Mexico City\")"
   ]
  },
  {
   "cell_type": "code",
   "execution_count": 56,
   "id": "8ce82389",
   "metadata": {},
   "outputs": [
    {
     "data": {
      "text/plain": [
       "Text(0.5, 1.0, 'Price vs Size')"
      ]
     },
     "execution_count": 56,
     "metadata": {},
     "output_type": "execute_result"
    },
    {
     "data": {
      "image/png": "[encoded data removed]",
      "text/plain": [
       "<Figure size 640x480 with 1 Axes>"
      ]
     },
     "metadata": {},
     "output_type": "display_data"
    }
   ],
   "source": [
    "#show the relationship between apartment price and size\n",
    "plt.scatter(x =df[\"surface_covered_in_m2\"], y = df[\"price_aprox_usd\"])\n",
    "plt.xlabel(\"Size in m2\")\n",
    "plt.ylabel(\"Price in USD\")\n",
    "plt.title(\"Price vs Size\")"
   ]
  },
  {
   "cell_type": "code",
   "execution_count": 62,
   "id": "5ca576d5",
   "metadata": {},
   "outputs": [
    {
     "name": "stderr",
     "output_type": "stream",
     "text": [
      "C:\\Users\\Administrator\\AppData\\Local\\Temp\\ipykernel_18964\\1183194522.py:2: DeprecationWarning:\n",
      "\n",
      "*scatter_mapbox* is deprecated! Use *scatter_map* instead. Learn more at: https://plotly.com/python/mapbox-to-maplibre/\n",
      "\n"
     ]
    },
    {
     "data": {
      "application/vnd.plotly.v1+json": {
       "config": {
        "plotlyServerURL": "https://plot.ly"
       },
       "data": [
        {
         "hovertemplate": "lat=%{lat}<br>lon=%{lon}<br>price_aprox_usd=%{marker.color}<extra></extra>",
         "lat": {
          "bdata": "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",
          "dtype": "f8"
         },
         "legendgroup": "",
         "lon": {
          "bdata": "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",
          "dtype": "f8"
         },
         "marker": {
          "color": {
           "bdata": "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",
           "dtype": "f8"
          },
          "coloraxis": "coloraxis"
         },
         "mode": "markers",
         "name": "",
         "showlegend": false,
         "subplot": "mapbox",
         "type": "scattermapbox"
        }
       ],
       "layout": {
        "coloraxis": {
         "colorbar": {
          "title": {
           "text": "price_aprox_usd"
          }
         },
         "colorscale": [
          [
           0,
           "#0d0887"
          ],
          [
           0.1111111111111111,
           "#46039f"
          ],
          [
           0.2222222222222222,
           "#7201a8"
          ],
          [
           0.3333333333333333,
           "#9c179e"
          ],
          [
           0.4444444444444444,
           "#bd3786"
          ],
          [
           0.5555555555555556,
           "#d8576b"
          ],
          [
           0.6666666666666666,
           "#ed7953"
          ],
          [
           0.7777777777777778,
           "#fb9f3a"
          ],
          [
           0.8888888888888888,
           "#fdca26"
          ],
          [
           1,
           "#f0f921"
          ]
         ]
        },
        "legend": {
         "tracegroupgap": 0
        },
        "mapbox": {
         "center": {
          "lat": 19.453112303462014,
          "lon": -99.18206441739316
         },
         "domain": {
          "x": [
           0,
           1
          ],
          "y": [
           0,
           1
          ]
         },
         "style": "carto-positron",
         "zoom": 13
        },
        "margin": {
         "t": 60
        },
        "template": {
         "data": {
          "bar": [
           {
            "error_x": {
             "color": "#2a3f5f"
            },
            "error_y": {
             "color": "#2a3f5f"
            },
            "marker": {
             "line": {
              "color": "#E5ECF6",
              "width": 0.5
             },
             "pattern": {
              "fillmode": "overlay",
              "size": 10,
              "solidity": 0.2
             }
            },
            "type": "bar"
           }
          ],
          "barpolar": [
           {
            "marker": {
             "line": {
              "color": "#E5ECF6",
              "width": 0.5
             },
             "pattern": {
              "fillmode": "overlay",
              "size": 10,
              "solidity": 0.2
             }
            },
            "type": "barpolar"
           }
          ],
          "carpet": [
           {
            "aaxis": {
             "endlinecolor": "#2a3f5f",
             "gridcolor": "white",
             "linecolor": "white",
             "minorgridcolor": "white",
             "startlinecolor": "#2a3f5f"
            },
            "baxis": {
             "endlinecolor": "#2a3f5f",
             "gridcolor": "white",
             "linecolor": "white",
             "minorgridcolor": "white",
             "startlinecolor": "#2a3f5f"
            },
            "type": "carpet"
           }
          ],
          "choropleth": [
           {
            "colorbar": {
             "outlinewidth": 0,
             "ticks": ""
            },
            "type": "choropleth"
           }
          ],
          "contour": [
           {
            "colorbar": {
             "outlinewidth": 0,
             "ticks": ""
            },
            "colorscale": [
             [
              0,
              "#0d0887"
             ],
             [
              0.1111111111111111,
              "#46039f"
             ],
             [
              0.2222222222222222,
              "#7201a8"
             ],
             [
              0.3333333333333333,
              "#9c179e"
             ],
             [
              0.4444444444444444,
              "#bd3786"
             ],
             [
              0.5555555555555556,
              "#d8576b"
             ],
             [
              0.6666666666666666,
              "#ed7953"
             ],
             [
              0.7777777777777778,
              "#fb9f3a"
             ],
             [
              0.8888888888888888,
              "#fdca26"
             ],
             [
              1,
              "#f0f921"
             ]
            ],
            "type": "contour"
           }
          ],
          "contourcarpet": [
           {
            "colorbar": {
             "outlinewidth": 0,
             "ticks": ""
            },
            "type": "contourcarpet"
           }
          ],
          "heatmap": [
           {
            "colorbar": {
             "outlinewidth": 0,
             "ticks": ""
            },
            "colorscale": [
             [
              0,
              "#0d0887"
             ],
             [
              0.1111111111111111,
              "#46039f"
             ],
             [
              0.2222222222222222,
              "#7201a8"
             ],
             [
              0.3333333333333333,
              "#9c179e"
             ],
             [
              0.4444444444444444,
              "#bd3786"
             ],
             [
              0.5555555555555556,
              "#d8576b"
             ],
             [
              0.6666666666666666,
              "#ed7953"
             ],
             [
              0.7777777777777778,
              "#fb9f3a"
             ],
             [
              0.8888888888888888,
              "#fdca26"
             ],
             [
              1,
              "#f0f921"
             ]
            ],
            "type": "heatmap"
           }
          ],
          "histogram": [
           {
            "marker": {
             "pattern": {
              "fillmode": "overlay",
              "size": 10,
              "solidity": 0.2
             }
            },
            "type": "histogram"
           }
          ],
          "histogram2d": [
           {
            "colorbar": {
             "outlinewidth": 0,
             "ticks": ""
            },
            "colorscale": [
             [
              0,
              "#0d0887"
             ],
             [
              0.1111111111111111,
              "#46039f"
             ],
             [
              0.2222222222222222,
              "#7201a8"
             ],
             [
              0.3333333333333333,
              "#9c179e"
             ],
             [
              0.4444444444444444,
              "#bd3786"
             ],
             [
              0.5555555555555556,
              "#d8576b"
             ],
             [
              0.6666666666666666,
              "#ed7953"
             ],
             [
              0.7777777777777778,
              "#fb9f3a"
             ],
             [
              0.8888888888888888,
              "#fdca26"
             ],
             [
              1,
              "#f0f921"
             ]
            ],
            "type": "histogram2d"
           }
          ],
          "histogram2dcontour": [
           {
            "colorbar": {
             "outlinewidth": 0,
             "ticks": ""
            },
            "colorscale": [
             [
              0,
              "#0d0887"
             ],
             [
              0.1111111111111111,
              "#46039f"
             ],
             [
              0.2222222222222222,
              "#7201a8"
             ],
             [
              0.3333333333333333,
              "#9c179e"
             ],
             [
              0.4444444444444444,
              "#bd3786"
             ],
             [
              0.5555555555555556,
              "#d8576b"
             ],
             [
              0.6666666666666666,
              "#ed7953"
             ],
             [
              0.7777777777777778,
              "#fb9f3a"
             ],
             [
              0.8888888888888888,
              "#fdca26"
             ],
             [
              1,
              "#f0f921"
             ]
            ],
            "type": "histogram2dcontour"
           }
          ],
          "mesh3d": [
           {
            "colorbar": {
             "outlinewidth": 0,
             "ticks": ""
            },
            "type": "mesh3d"
           }
          ],
          "parcoords": [
           {
            "line": {
             "colorbar": {
              "outlinewidth": 0,
              "ticks": ""
             }
            },
            "type": "parcoords"
           }
          ],
          "pie": [
           {
            "automargin": true,
            "type": "pie"
           }
          ],
          "scatter": [
           {
            "fillpattern": {
             "fillmode": "overlay",
             "size": 10,
             "solidity": 0.2
            },
            "type": "scatter"
           }
          ],
          "scatter3d": [
           {
            "line": {
             "colorbar": {
              "outlinewidth": 0,
              "ticks": ""
             }
            },
            "marker": {
             "colorbar": {
              "outlinewidth": 0,
              "ticks": ""
             }
            },
            "type": "scatter3d"
           }
          ],
          "scattercarpet": [
           {
            "marker": {
             "colorbar": {
              "outlinewidth": 0,
              "ticks": ""
             }
            },
            "type": "scattercarpet"
           }
          ],
          "scattergeo": [
           {
            "marker": {
             "colorbar": {
              "outlinewidth": 0,
              "ticks": ""
             }
            },
            "type": "scattergeo"
           }
          ],
          "scattergl": [
           {
            "marker": {
             "colorbar": {
              "outlinewidth": 0,
              "ticks": ""
             }
            },
            "type": "scattergl"
           }
          ],
          "scattermap": [
           {
            "marker": {
             "colorbar": {
              "outlinewidth": 0,
              "ticks": ""
             }
            },
            "type": "scattermap"
           }
          ],
          "scattermapbox": [
           {
            "marker": {
             "colorbar": {
              "outlinewidth": 0,
              "ticks": ""
             }
            },
            "type": "scattermapbox"
           }
          ],
          "scatterpolar": [
           {
            "marker": {
             "colorbar": {
              "outlinewidth": 0,
              "ticks": ""
             }
            },
            "type": "scatterpolar"
           }
          ],
          "scatterpolargl": [
           {
            "marker": {
             "colorbar": {
              "outlinewidth": 0,
              "ticks": ""
             }
            },
            "type": "scatterpolargl"
           }
          ],
          "scatterternary": [
           {
            "marker": {
             "colorbar": {
              "outlinewidth": 0,
              "ticks": ""
             }
            },
            "type": "scatterternary"
           }
          ],
          "surface": [
           {
            "colorbar": {
             "outlinewidth": 0,
             "ticks": ""
            },
            "colorscale": [
             [
              0,
              "#0d0887"
             ],
             [
              0.1111111111111111,
              "#46039f"
             ],
             [
              0.2222222222222222,
              "#7201a8"
             ],
             [
              0.3333333333333333,
              "#9c179e"
             ],
             [
              0.4444444444444444,
              "#bd3786"
             ],
             [
              0.5555555555555556,
              "#d8576b"
             ],
             [
              0.6666666666666666,
              "#ed7953"
             ],
             [
              0.7777777777777778,
              "#fb9f3a"
             ],
             [
              0.8888888888888888,
              "#fdca26"
             ],
             [
              1,
              "#f0f921"
             ]
            ],
            "type": "surface"
           }
          ],
          "table": [
           {
            "cells": {
             "fill": {
              "color": "#EBF0F8"
             },
             "line": {
              "color": "white"
             }
            },
            "header": {
             "fill": {
              "color": "#C8D4E3"
             },
             "line": {
              "color": "white"
             }
            },
            "type": "table"
           }
          ]
         },
         "layout": {
          "annotationdefaults": {
           "arrowcolor": "#2a3f5f",
           "arrowhead": 0,
           "arrowwidth": 1
          },
          "autotypenumbers": "strict",
          "coloraxis": {
           "colorbar": {
            "outlinewidth": 0,
            "ticks": ""
           }
          },
          "colorscale": {
           "diverging": [
            [
             0,
             "#8e0152"
            ],
            [
             0.1,
             "#c51b7d"
            ],
            [
             0.2,
             "#de77ae"
            ],
            [
             0.3,
             "#f1b6da"
            ],
            [
             0.4,
             "#fde0ef"
            ],
            [
             0.5,
             "#f7f7f7"
            ],
            [
             0.6,
             "#e6f5d0"
            ],
            [
             0.7,
             "#b8e186"
            ],
            [
             0.8,
             "#7fbc41"
            ],
            [
             0.9,
             "#4d9221"
            ],
            [
             1,
             "#276419"
            ]
           ],
           "sequential": [
            [
             0,
             "#0d0887"
            ],
            [
             0.1111111111111111,
             "#46039f"
            ],
            [
             0.2222222222222222,
             "#7201a8"
            ],
            [
             0.3333333333333333,
             "#9c179e"
            ],
            [
             0.4444444444444444,
             "#bd3786"
            ],
            [
             0.5555555555555556,
             "#d8576b"
            ],
            [
             0.6666666666666666,
             "#ed7953"
            ],
            [
             0.7777777777777778,
             "#fb9f3a"
            ],
            [
             0.8888888888888888,
             "#fdca26"
            ],
            [
             1,
             "#f0f921"
            ]
           ],
           "sequentialminus": [
            [
             0,
             "#0d0887"
            ],
            [
             0.1111111111111111,
             "#46039f"
            ],
            [
             0.2222222222222222,
             "#7201a8"
            ],
            [
             0.3333333333333333,
             "#9c179e"
            ],
            [
             0.4444444444444444,
             "#bd3786"
            ],
            [
             0.5555555555555556,
             "#d8576b"
            ],
            [
             0.6666666666666666,
             "#ed7953"
            ],
            [
             0.7777777777777778,
             "#fb9f3a"
            ],
            [
             0.8888888888888888,
             "#fdca26"
            ],
            [
             1,
             "#f0f921"
            ]
           ]
          },
          "colorway": [
           "#636efa",
           "#EF553B",
           "#00cc96",
           "#ab63fa",
           "#FFA15A",
           "#19d3f3",
           "#FF6692",
           "#B6E880",
           "#FF97FF",
           "#FECB52"
          ],
          "font": {
           "color": "#2a3f5f"
          },
          "geo": {
           "bgcolor": "white",
           "lakecolor": "white",
           "landcolor": "#E5ECF6",
           "showlakes": true,
           "showland": true,
           "subunitcolor": "white"
          },
          "hoverlabel": {
           "align": "left"
          },
          "hovermode": "closest",
          "mapbox": {
           "style": "light"
          },
          "paper_bgcolor": "white",
          "plot_bgcolor": "#E5ECF6",
          "polar": {
           "angularaxis": {
            "gridcolor": "white",
            "linecolor": "white",
            "ticks": ""
           },
           "bgcolor": "#E5ECF6",
           "radialaxis": {
            "gridcolor": "white",
            "linecolor": "white",
            "ticks": ""
           }
          },
          "scene": {
           "xaxis": {
            "backgroundcolor": "#E5ECF6",
            "gridcolor": "white",
            "gridwidth": 2,
            "linecolor": "white",
            "showbackground": true,
            "ticks": "",
            "zerolinecolor": "white"
           },
           "yaxis": {
            "backgroundcolor": "#E5ECF6",
            "gridcolor": "white",
            "gridwidth": 2,
            "linecolor": "white",
            "showbackground": true,
            "ticks": "",
            "zerolinecolor": "white"
           },
           "zaxis": {
            "backgroundcolor": "#E5ECF6",
            "gridcolor": "white",
            "gridwidth": 2,
            "linecolor": "white",
            "showbackground": true,
            "ticks": "",
            "zerolinecolor": "white"
           }
          },
          "shapedefaults": {
           "line": {
            "color": "#2a3f5f"
           }
          },
          "ternary": {
           "aaxis": {
            "gridcolor": "white",
            "linecolor": "white",
            "ticks": ""
           },
           "baxis": {
            "gridcolor": "white",
            "linecolor": "white",
            "ticks": ""
           },
           "bgcolor": "#E5ECF6",
           "caxis": {
            "gridcolor": "white",
            "linecolor": "white",
            "ticks": ""
           }
          },
          "title": {
           "x": 0.05
          },
          "xaxis": {
           "automargin": true,
           "gridcolor": "white",
           "linecolor": "white",
           "ticks": "",
           "title": {
            "standoff": 15
           },
           "zerolinecolor": "white",
           "zerolinewidth": 2
          },
          "yaxis": {
           "automargin": true,
           "gridcolor": "white",
           "linecolor": "white",
           "ticks": "",
           "title": {
            "standoff": 15
           },
           "zerolinecolor": "white",
           "zerolinewidth": 2
          }
         }
        }
       }
      }
     },
     "metadata": {},
     "output_type": "display_data"
    }
   ],
   "source": [
    "#mapbox scatter plot\n",
    "fig= px.scatter_mapbox(\n",
    "    df,\n",
    "    lat = \"lat\",\n",
    "    lon = \"lon\",\n",
    "    color = \"price_aprox_usd\",\n",
    "    mapbox_style = \"carto-positron\",\n",
    "    zoom = 13,\n",
    ")\n",
    "fig.show()"
   ]
  },
  {
   "cell_type": "code",
   "execution_count": 7,
   "id": "71aa5fc8",
   "metadata": {},
   "outputs": [],
   "source": [
    "#Create Feature matrices and target vector\n",
    "features = [\"surface_covered_in_m2\",\"lat\",\"lon\",\"neighbourhood\"]\n",
    "X_train = df[features]\n",
    "y_train = df[\"price_aprox_usd\"]"
   ]
  },
  {
   "cell_type": "code",
   "execution_count": 8,
   "id": "a667f0dd",
   "metadata": {},
   "outputs": [
    {
     "name": "stdout",
     "output_type": "stream",
     "text": [
      "54246.53\n",
      "17239.94\n"
     ]
    }
   ],
   "source": [
    "#create baseline MAE\n",
    "y_mean = y_train.mean()\n",
    "y_predbaseline = [y_mean] * len(y_train)\n",
    "baseline_mean = mean_absolute_error(y_train, y_predbaseline)\n",
    "print(round(y_mean,2))\n",
    "print(round(baseline_mean, 2))"
   ]
  },
  {
   "cell_type": "code",
   "execution_count": 9,
   "id": "bb0dd22e",
   "metadata": {},
   "outputs": [
    {
     "data": {
      "text/plain": [
       "array([74307.13482649, 49999.34109049, 70485.08913983])"
      ]
     },
     "execution_count": 9,
     "metadata": {},
     "output_type": "execute_result"
    }
   ],
   "source": [
    "#create a pipeline that contains OneHotEncoder and SimpleImputer transformer and Ridge predictor Model\n",
    "model = make_pipeline(\n",
    "    OneHotEncoder(use_cat_names = True),\n",
    "    SimpleImputer(),\n",
    "    Ridge()\n",
    ")\n",
    "model.named_steps\n",
    "#train the model\n",
    "model.fit(X_train, y_train)\n",
    "#make predictions\n",
    "y_pred = model.predict(X_train)\n",
    "y_pred[:3]"
   ]
  },
  {
   "cell_type": "code",
   "execution_count": null,
   "id": "ad14d33e",
   "metadata": {},
   "outputs": [
    {
     "data": {
      "text/plain": [
       "14943.165824063904"
      ]
     },
     "execution_count": 10,
     "metadata": {},
     "output_type": "execute_result"
    }
   ],
   "source": [
    "#check if model is fitted\n",
    "check_is_fitted(model)\n",
    "#MAE\n",
    "mean_absolute_error(y_train, y_pred)\n"
   ]
  },
  {
   "cell_type": "markdown",
   "id": "7fb40a0e",
   "metadata": {},
   "source": [
    "Generalization: using model to make predictions of data other than training data"
   ]
  },
  {
   "cell_type": "code",
   "execution_count": 11,
   "id": "76ce75a4",
   "metadata": {},
   "outputs": [
    {
     "data": {
      "text/html": [
       "<div>\n",
       "<style scoped>\n",
       "    .dataframe tbody tr th:only-of-type {\n",
       "        vertical-align: middle;\n",
       "    }\n",
       "\n",
       "    .dataframe tbody tr th {\n",
       "        vertical-align: top;\n",
       "    }\n",
       "\n",
       "    .dataframe thead th {\n",
       "        text-align: right;\n",
       "    }\n",
       "</style>\n",
       "<table border=\"1\" class=\"dataframe\">\n",
       "  <thead>\n",
       "    <tr style=\"text-align: right;\">\n",
       "      <th></th>\n",
       "      <th>surface_covered_in_m2</th>\n",
       "      <th>lat</th>\n",
       "      <th>lon</th>\n",
       "      <th>neighbourhood</th>\n",
       "    </tr>\n",
       "  </thead>\n",
       "  <tbody>\n",
       "    <tr>\n",
       "      <th>0</th>\n",
       "      <td>60</td>\n",
       "      <td>19.493185</td>\n",
       "      <td>-99.205755</td>\n",
       "      <td>Azcapotzalco</td>\n",
       "    </tr>\n",
       "    <tr>\n",
       "      <th>1</th>\n",
       "      <td>55</td>\n",
       "      <td>19.307247</td>\n",
       "      <td>-99.166700</td>\n",
       "      <td>Coyoacán</td>\n",
       "    </tr>\n",
       "    <tr>\n",
       "      <th>2</th>\n",
       "      <td>50</td>\n",
       "      <td>19.363469</td>\n",
       "      <td>-99.010141</td>\n",
       "      <td>Iztapalapa</td>\n",
       "    </tr>\n",
       "    <tr>\n",
       "      <th>3</th>\n",
       "      <td>60</td>\n",
       "      <td>19.474655</td>\n",
       "      <td>-99.189277</td>\n",
       "      <td>Azcapotzalco</td>\n",
       "    </tr>\n",
       "    <tr>\n",
       "      <th>4</th>\n",
       "      <td>74</td>\n",
       "      <td>19.394628</td>\n",
       "      <td>-99.143842</td>\n",
       "      <td>Benito Juárez</td>\n",
       "    </tr>\n",
       "    <tr>\n",
       "      <th>...</th>\n",
       "      <td>...</td>\n",
       "      <td>...</td>\n",
       "      <td>...</td>\n",
       "      <td>...</td>\n",
       "    </tr>\n",
       "    <tr>\n",
       "      <th>1036</th>\n",
       "      <td>70</td>\n",
       "      <td>19.490331</td>\n",
       "      <td>-99.207579</td>\n",
       "      <td>Azcapotzalco</td>\n",
       "    </tr>\n",
       "    <tr>\n",
       "      <th>1037</th>\n",
       "      <td>70</td>\n",
       "      <td>19.446852</td>\n",
       "      <td>-99.154461</td>\n",
       "      <td>Cuauhtémoc</td>\n",
       "    </tr>\n",
       "    <tr>\n",
       "      <th>1038</th>\n",
       "      <td>74</td>\n",
       "      <td>19.383251</td>\n",
       "      <td>-99.105499</td>\n",
       "      <td>Iztacalco</td>\n",
       "    </tr>\n",
       "    <tr>\n",
       "      <th>1039</th>\n",
       "      <td>70</td>\n",
       "      <td>19.339707</td>\n",
       "      <td>-99.131065</td>\n",
       "      <td>Coyoacán</td>\n",
       "    </tr>\n",
       "    <tr>\n",
       "      <th>1040</th>\n",
       "      <td>80</td>\n",
       "      <td>19.282540</td>\n",
       "      <td>-99.185972</td>\n",
       "      <td>Tlalpan</td>\n",
       "    </tr>\n",
       "  </tbody>\n",
       "</table>\n",
       "<p>1041 rows × 4 columns</p>\n",
       "</div>"
      ],
      "text/plain": [
       "      surface_covered_in_m2        lat        lon  neighbourhood\n",
       "0                        60  19.493185 -99.205755   Azcapotzalco\n",
       "1                        55  19.307247 -99.166700       Coyoacán\n",
       "2                        50  19.363469 -99.010141     Iztapalapa\n",
       "3                        60  19.474655 -99.189277   Azcapotzalco\n",
       "4                        74  19.394628 -99.143842  Benito Juárez\n",
       "...                     ...        ...        ...            ...\n",
       "1036                     70  19.490331 -99.207579   Azcapotzalco\n",
       "1037                     70  19.446852 -99.154461     Cuauhtémoc\n",
       "1038                     74  19.383251 -99.105499      Iztacalco\n",
       "1039                     70  19.339707 -99.131065       Coyoacán\n",
       "1040                     80  19.282540 -99.185972        Tlalpan\n",
       "\n",
       "[1041 rows x 4 columns]"
      ]
     },
     "execution_count": 11,
     "metadata": {},
     "output_type": "execute_result"
    }
   ],
   "source": [
    "#evaluate the model\n",
    "testdata = pd.read_csv(r\"C:\\Users\\Administrator\\Desktop\\Data Expert\\Data Analytics\\Projects\\World Quant\\Housing in Buenos Aires\\data\\mexico-city-test-features.csv\")\n",
    "testdata = testdata.rename(columns ={\"borough\":\"neighbourhood\"})\n",
    "testdata\n"
   ]
  },
  {
   "cell_type": "code",
   "execution_count": 12,
   "id": "64fee118",
   "metadata": {},
   "outputs": [
    {
     "data": {
      "text/plain": [
       "0    53538.366480\n",
       "1    53171.988369\n",
       "2    34263.884179\n",
       "dtype: float64"
      ]
     },
     "execution_count": 12,
     "metadata": {},
     "output_type": "execute_result"
    }
   ],
   "source": [
    "y_pred_test= pd.Series(model.predict(testdata))\n",
    "y_pred_test.head(3)"
   ]
  },
  {
   "cell_type": "code",
   "execution_count": 13,
   "id": "af6e49ca",
   "metadata": {},
   "outputs": [],
   "source": [
    "#wrap model in a function\n",
    "def model_prediction(area, lat, lon, neighbourhood):\n",
    "    data ={\n",
    "            \"surface_covered_in_m2\":[area],\n",
    "            \"lat\":[lat],\n",
    "            \"lon\":[lon],\n",
    "            \"neighbourhood\":[neighbourhood]\n",
    "        }\n",
    "    df = pd.DataFrame(data)\n",
    "    predictions = model.predict(df)\n",
    "    return f\"Predicted apartment price: ${predictions}\"\n",
    "    "
   ]
  },
  {
   "cell_type": "code",
   "execution_count": 14,
   "id": "72bf2fcd",
   "metadata": {},
   "outputs": [
    {
     "data": {
      "text/plain": [
       "'Predicted apartment price: $[65204.5327153]'"
      ]
     },
     "execution_count": 14,
     "metadata": {},
     "output_type": "execute_result"
    }
   ],
   "source": [
    "model_prediction(100,19.493185,-99.205755,\"Azcapotzalco\")"
   ]
  },
  {
   "cell_type": "code",
   "execution_count": null,
   "id": "c41db0aa",
   "metadata": {},
   "outputs": [],
   "source": [
    "interact(\n",
    "    model_prediction,\n",
    "    area=IntSlider(\n",
    "        min=X_train[\"surface_covered_in_m2\"].min(),\n",
    "        max=X_train[\"surface_covered_in_m2\"].max(),\n",
    "        value=X_train[\"surface_covered_in_m2\"].mean(),\n",
    "    ),\n",
    "    lat=FloatSlider(\n",
    "        min=X_train[\"lat\"].min(),\n",
    "        max=X_train[\"lat\"].max(),\n",
    "        step=0.01,\n",
    "        value=X_train[\"lat\"].mean(),\n",
    "    ),\n",
    "    lon=FloatSlider(\n",
    "        min=X_train[\"lon\"].min(),\n",
    "        max=X_train[\"lon\"].max(),\n",
    "        step=0.01,\n",
    "        value=X_train[\"lon\"].mean(),\n",
    "    ),\n",
    "    neighbourhood=Dropdown(options=sorted(X_train[\"neighbourhood\"].unique()),\n",
    "                           value=X_train[\"neighborhood\"].mode()[0],\n",
    "                           ),\n",
    ");"
   ]
  },
  {
   "cell_type": "code",
   "execution_count": 15,
   "id": "f7e6ac41",
   "metadata": {},
   "outputs": [],
   "source": [
    "#save the model to a file\n",
    "with open(\"pricemodel.pkl\", \"wb\") as f:\n",
    "    pickle.dump(model, f)"
   ]
  }
 ],
 "metadata": {
  "kernelspec": {
   "display_name": "venv",
   "language": "python",
   "name": "python3"
  },
  "language_info": {
   "codemirror_mode": {
    "name": "ipython",
    "version": 3
   },
   "file_extension": ".py",
   "mimetype": "text/x-python",
   "name": "python",
   "nbconvert_exporter": "python",
   "pygments_lexer": "ipython3",
   "version": "3.12.2"
  }
 },
 "nbformat": 4,
 "nbformat_minor": 5
}
